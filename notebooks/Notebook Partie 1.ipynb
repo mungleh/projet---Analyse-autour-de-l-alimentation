{
 "cells": [
  {
   "cell_type": "markdown",
   "id": "c4fc9f38",
   "metadata": {
    "heading_collapsed": true
   },
   "source": [
    "# Contexte"
   ]
  },
  {
   "cell_type": "markdown",
   "id": "8f322cb9",
   "metadata": {
    "hidden": true
   },
   "source": [
    "Ce notebook est la première partie d'un projet ou nous devons fournir des analyses concernant la répartition de l'alimentation, la sous-nutrition mais également en comprendre les causes."
   ]
  },
  {
   "cell_type": "markdown",
   "id": "f07df62f",
   "metadata": {},
   "source": [
    "# Sommaire\n",
    "\n",
    "* [Analyse du dataset](#chapter3)\n",
    "    * [Import](#section_3_1)\n",
    "        * [Import libraries](#section_3_1_1)\n",
    "        * [Import dataset](#section_3_1_2)\n",
    "    * [Fonctions](#section_3_2)\n",
    "    * [Analyse aide alimentaire](#section_3_3)\n",
    "    * [Analyse dispo alimentaire](#section_3_4)\n",
    "    * [Analyse population](#section_3_5)\n",
    "    * [Analyse nutrition](#section_3_6)\n",
    "\n",
    "\n",
    "* [Jointure](#chapter4)\n",
    "\n",
    "\n",
    "* [Etude année 2017](#chapter5)\n",
    "    * [Partie 1](#section_5_1)\n",
    "        * [proportion de personnes en état de sous-nutrition](#section_3_1_1)\n",
    "        * [nombre théorique de personnes qui pourraient être nourries](#section_3_1_2)\n",
    "        * [idem pour la disponibilité alimentaire des produits végétaux](#section_3_1_3)\n",
    "        * [proportion de personnes sous-alimentées](#section_3_1_4)"
   ]
  },
  {
   "cell_type": "markdown",
   "id": "08a69fd1",
   "metadata": {},
   "source": [
    "# Analyse du dataset\n",
    "<a class=\"anchor\" id=\"chapter3\"></a>"
   ]
  },
  {
   "cell_type": "markdown",
   "id": "4f2c5195",
   "metadata": {},
   "source": [
    "## IMPORT\n",
    "<a class=\"anchor\" id=\"section_3_1\"></a>"
   ]
  },
  {
   "cell_type": "markdown",
   "id": "412107e4",
   "metadata": {},
   "source": [
    "### Import libraries\n",
    "<a class=\"anchor\" id=\"section_3_1_1\"></a>"
   ]
  },
  {
   "cell_type": "code",
   "execution_count": 7,
   "id": "250ff072",
   "metadata": {},
   "outputs": [],
   "source": [
    "import pandas as pd\n",
    "import numpy as np\n",
    "import matplotlib as mp\n",
    "import matplotlib.pyplot as plt\n",
    "import seaborn as sns\n",
    "import missingno as mno\n",
    "import plotly.express as px\n",
    "\n",
    "\n",
    "import warnings\n",
    "warnings.filterwarnings('ignore')\n",
    "from datetime import date\n",
    "\n",
    "\n",
    "pd.set_option('display.max_columns', None)"
   ]
  },
  {
   "cell_type": "markdown",
   "id": "58d8a91b",
   "metadata": {},
   "source": [
    "### Import dataset\n",
    "<a class=\"anchor\" id=\"section_3_1_2\"></a>"
   ]
  },
  {
   "cell_type": "code",
   "execution_count": 8,
   "id": "eecb05c4",
   "metadata": {},
   "outputs": [],
   "source": [
    "aide = pd.read_csv(\"../data/aide_alimentaire.csv\", delimiter=\",\")\n",
    "dispo = pd.read_csv(\"../data/dispo_alimentaire.csv\", delimiter=\",\")\n",
    "pop = pd.read_csv(\"../data/population.csv\", delimiter=\",\")\n",
    "inséc = pd.read_csv(\"../data/sous_nutrition.csv\", delimiter=\",\")"
   ]
  },
  {
   "cell_type": "markdown",
   "id": "d7531899",
   "metadata": {},
   "source": [
    "## Fonctions\n",
    "<a class=\"anchor\" id=\"section_3_2\"></a>"
   ]
  },
  {
   "cell_type": "code",
   "execution_count": 9,
   "id": "601bd547",
   "metadata": {},
   "outputs": [],
   "source": [
    "#Fonction pour regarder mes valeurs manquantes\n",
    "def missing_zero_values_table(df):\n",
    "        zero_val = (df == 0.00).astype(int).sum(axis=0)\n",
    "        mis_val = df.isnull().sum()\n",
    "        mis_val_percent = 100 * df.isnull().sum() / len(df)\n",
    "        mz_table = pd.concat([zero_val, mis_val, mis_val_percent], axis=1)\n",
    "        mz_table = mz_table.rename(\n",
    "        columns = {0 : 'Zero Values', 1 : 'Missing Values', 2 : '% of Total Values'})\n",
    "        mz_table['Total Zero Missing Values'] = mz_table['Zero Values'] + mz_table['Missing Values']\n",
    "        mz_table['% Total Zero Missing Values'] = 100 * mz_table['Total Zero Missing Values'] / len(df)\n",
    "        mz_table['Data Type'] = df.dtypes\n",
    "        mz_table = mz_table[\n",
    "            mz_table.iloc[:,1] != 0].sort_values(\n",
    "        '% of Total Values', ascending=False).round(1)\n",
    "        print (\"Your selected dataframe has \" + str(df.shape[1]) + \" columns and \" + str(df.shape[0]) + \" Rows.\\n\"      \n",
    "            \"There are \" + str(mz_table.shape[0]) +\n",
    "              \" columns that have missing values.\")\n",
    "        return mz_table"
   ]
  },
  {
   "cell_type": "markdown",
   "id": "d3b759f8",
   "metadata": {},
   "source": [
    "## Analyse Aide Alimentaire \n",
    "<a class=\"anchor\" id=\"section_3_3\"></a>"
   ]
  },
  {
   "cell_type": "code",
   "execution_count": 10,
   "id": "c1fd3754",
   "metadata": {},
   "outputs": [],
   "source": [
    "#aide.head()"
   ]
  },
  {
   "cell_type": "code",
   "execution_count": 11,
   "id": "b5aceb33",
   "metadata": {},
   "outputs": [],
   "source": [
    "#aide.info()"
   ]
  },
  {
   "cell_type": "code",
   "execution_count": 12,
   "id": "600fdecd",
   "metadata": {},
   "outputs": [
    {
     "data": {
      "text/plain": [
       "Pays bénéficiaire    0\n",
       "Année                0\n",
       "Produit              0\n",
       "Valeur               6\n",
       "dtype: int64"
      ]
     },
     "execution_count": 12,
     "metadata": {},
     "output_type": "execute_result"
    }
   ],
   "source": [
    "# check for zeros in all columns \n",
    "aide[aide == 0].count()"
   ]
  },
  {
   "cell_type": "code",
   "execution_count": 13,
   "id": "decf1a3d",
   "metadata": {},
   "outputs": [
    {
     "name": "stdout",
     "output_type": "stream",
     "text": [
      "Your selected dataframe has 4 columns and 1475 Rows.\n",
      "There are 0 columns that have missing values.\n"
     ]
    },
    {
     "data": {
      "text/html": [
       "<div>\n",
       "<style scoped>\n",
       "    .dataframe tbody tr th:only-of-type {\n",
       "        vertical-align: middle;\n",
       "    }\n",
       "\n",
       "    .dataframe tbody tr th {\n",
       "        vertical-align: top;\n",
       "    }\n",
       "\n",
       "    .dataframe thead th {\n",
       "        text-align: right;\n",
       "    }\n",
       "</style>\n",
       "<table border=\"1\" class=\"dataframe\">\n",
       "  <thead>\n",
       "    <tr style=\"text-align: right;\">\n",
       "      <th></th>\n",
       "      <th>Zero Values</th>\n",
       "      <th>Missing Values</th>\n",
       "      <th>% of Total Values</th>\n",
       "      <th>Total Zero Missing Values</th>\n",
       "      <th>% Total Zero Missing Values</th>\n",
       "      <th>Data Type</th>\n",
       "    </tr>\n",
       "  </thead>\n",
       "  <tbody>\n",
       "  </tbody>\n",
       "</table>\n",
       "</div>"
      ],
      "text/plain": [
       "Empty DataFrame\n",
       "Columns: [Zero Values, Missing Values, % of Total Values, Total Zero Missing Values, % Total Zero Missing Values, Data Type]\n",
       "Index: []"
      ]
     },
     "execution_count": 13,
     "metadata": {},
     "output_type": "execute_result"
    }
   ],
   "source": [
    "missing_zero_values_table(aide)"
   ]
  },
  {
   "cell_type": "markdown",
   "id": "f9fa8f8a",
   "metadata": {},
   "source": [
    "<div class=\"alert alert-info\">\n",
    "    <strong>Conclusion :<br></strong>\n",
    "   Il y a 6 valeur à 0 dans la feature Valeur\n",
    "</div>"
   ]
  },
  {
   "cell_type": "markdown",
   "id": "6c58a6cf",
   "metadata": {},
   "source": [
    "## Analyse Dispo Alimentaire \n",
    "<a class=\"anchor\" id=\"section_3_4\"></a>"
   ]
  },
  {
   "cell_type": "code",
   "execution_count": 14,
   "id": "2f5dce1e",
   "metadata": {},
   "outputs": [],
   "source": [
    "#  dispo.head()"
   ]
  },
  {
   "cell_type": "code",
   "execution_count": 15,
   "id": "f6fc7ef3",
   "metadata": {},
   "outputs": [],
   "source": [
    "# dispo.info()"
   ]
  },
  {
   "cell_type": "code",
   "execution_count": 16,
   "id": "fcf2629d",
   "metadata": {},
   "outputs": [
    {
     "name": "stdout",
     "output_type": "stream",
     "text": [
      "Your selected dataframe has 18 columns and 15605 Rows.\n",
      "There are 15 columns that have missing values.\n"
     ]
    },
    {
     "data": {
      "text/html": [
       "<div>\n",
       "<style scoped>\n",
       "    .dataframe tbody tr th:only-of-type {\n",
       "        vertical-align: middle;\n",
       "    }\n",
       "\n",
       "    .dataframe tbody tr th {\n",
       "        vertical-align: top;\n",
       "    }\n",
       "\n",
       "    .dataframe thead th {\n",
       "        text-align: right;\n",
       "    }\n",
       "</style>\n",
       "<table border=\"1\" class=\"dataframe\">\n",
       "  <thead>\n",
       "    <tr style=\"text-align: right;\">\n",
       "      <th></th>\n",
       "      <th>Zero Values</th>\n",
       "      <th>Missing Values</th>\n",
       "      <th>% of Total Values</th>\n",
       "      <th>Total Zero Missing Values</th>\n",
       "      <th>% Total Zero Missing Values</th>\n",
       "      <th>Data Type</th>\n",
       "    </tr>\n",
       "  </thead>\n",
       "  <tbody>\n",
       "    <tr>\n",
       "      <th>Semences</th>\n",
       "      <td>704</td>\n",
       "      <td>13514</td>\n",
       "      <td>86.6</td>\n",
       "      <td>14218</td>\n",
       "      <td>91.1</td>\n",
       "      <td>float64</td>\n",
       "    </tr>\n",
       "    <tr>\n",
       "      <th>Traitement</th>\n",
       "      <td>814</td>\n",
       "      <td>13313</td>\n",
       "      <td>85.3</td>\n",
       "      <td>14127</td>\n",
       "      <td>90.5</td>\n",
       "      <td>float64</td>\n",
       "    </tr>\n",
       "    <tr>\n",
       "      <th>Aliments pour animaux</th>\n",
       "      <td>930</td>\n",
       "      <td>12885</td>\n",
       "      <td>82.6</td>\n",
       "      <td>13815</td>\n",
       "      <td>88.5</td>\n",
       "      <td>float64</td>\n",
       "    </tr>\n",
       "    <tr>\n",
       "      <th>Pertes</th>\n",
       "      <td>1099</td>\n",
       "      <td>11327</td>\n",
       "      <td>72.6</td>\n",
       "      <td>12426</td>\n",
       "      <td>79.6</td>\n",
       "      <td>float64</td>\n",
       "    </tr>\n",
       "    <tr>\n",
       "      <th>Autres Utilisations</th>\n",
       "      <td>3298</td>\n",
       "      <td>10109</td>\n",
       "      <td>64.8</td>\n",
       "      <td>13407</td>\n",
       "      <td>85.9</td>\n",
       "      <td>float64</td>\n",
       "    </tr>\n",
       "    <tr>\n",
       "      <th>Variation de stock</th>\n",
       "      <td>5289</td>\n",
       "      <td>8829</td>\n",
       "      <td>56.6</td>\n",
       "      <td>14118</td>\n",
       "      <td>90.5</td>\n",
       "      <td>float64</td>\n",
       "    </tr>\n",
       "    <tr>\n",
       "      <th>Production</th>\n",
       "      <td>1434</td>\n",
       "      <td>6425</td>\n",
       "      <td>41.2</td>\n",
       "      <td>7859</td>\n",
       "      <td>50.4</td>\n",
       "      <td>float64</td>\n",
       "    </tr>\n",
       "    <tr>\n",
       "      <th>Disponibilité de protéines en quantité (g/personne/jour)</th>\n",
       "      <td>2645</td>\n",
       "      <td>4044</td>\n",
       "      <td>25.9</td>\n",
       "      <td>6689</td>\n",
       "      <td>42.9</td>\n",
       "      <td>float64</td>\n",
       "    </tr>\n",
       "    <tr>\n",
       "      <th>Disponibilité de matière grasse en quantité (g/personne/jour)</th>\n",
       "      <td>2734</td>\n",
       "      <td>3811</td>\n",
       "      <td>24.4</td>\n",
       "      <td>6545</td>\n",
       "      <td>41.9</td>\n",
       "      <td>float64</td>\n",
       "    </tr>\n",
       "    <tr>\n",
       "      <th>Exportations - Quantité</th>\n",
       "      <td>6496</td>\n",
       "      <td>3379</td>\n",
       "      <td>21.7</td>\n",
       "      <td>9875</td>\n",
       "      <td>63.3</td>\n",
       "      <td>float64</td>\n",
       "    </tr>\n",
       "    <tr>\n",
       "      <th>Disponibilité alimentaire en quantité (kg/personne/an)</th>\n",
       "      <td>2004</td>\n",
       "      <td>1590</td>\n",
       "      <td>10.2</td>\n",
       "      <td>3594</td>\n",
       "      <td>23.0</td>\n",
       "      <td>float64</td>\n",
       "    </tr>\n",
       "    <tr>\n",
       "      <th>Nourriture</th>\n",
       "      <td>4018</td>\n",
       "      <td>1590</td>\n",
       "      <td>10.2</td>\n",
       "      <td>5608</td>\n",
       "      <td>35.9</td>\n",
       "      <td>float64</td>\n",
       "    </tr>\n",
       "    <tr>\n",
       "      <th>Disponibilité alimentaire (Kcal/personne/jour)</th>\n",
       "      <td>4163</td>\n",
       "      <td>1364</td>\n",
       "      <td>8.7</td>\n",
       "      <td>5527</td>\n",
       "      <td>35.4</td>\n",
       "      <td>float64</td>\n",
       "    </tr>\n",
       "    <tr>\n",
       "      <th>Importations - Quantité</th>\n",
       "      <td>5777</td>\n",
       "      <td>753</td>\n",
       "      <td>4.8</td>\n",
       "      <td>6530</td>\n",
       "      <td>41.8</td>\n",
       "      <td>float64</td>\n",
       "    </tr>\n",
       "    <tr>\n",
       "      <th>Disponibilité intérieure</th>\n",
       "      <td>4099</td>\n",
       "      <td>223</td>\n",
       "      <td>1.4</td>\n",
       "      <td>4322</td>\n",
       "      <td>27.7</td>\n",
       "      <td>float64</td>\n",
       "    </tr>\n",
       "  </tbody>\n",
       "</table>\n",
       "</div>"
      ],
      "text/plain": [
       "                                                    Zero Values  \\\n",
       "Semences                                                    704   \n",
       "Traitement                                                  814   \n",
       "Aliments pour animaux                                       930   \n",
       "Pertes                                                     1099   \n",
       "Autres Utilisations                                        3298   \n",
       "Variation de stock                                         5289   \n",
       "Production                                                 1434   \n",
       "Disponibilité de protéines en quantité (g/perso...         2645   \n",
       "Disponibilité de matière grasse en quantité (g/...         2734   \n",
       "Exportations - Quantité                                    6496   \n",
       "Disponibilité alimentaire en quantité (kg/perso...         2004   \n",
       "Nourriture                                                 4018   \n",
       "Disponibilité alimentaire (Kcal/personne/jour)             4163   \n",
       "Importations - Quantité                                    5777   \n",
       "Disponibilité intérieure                                   4099   \n",
       "\n",
       "                                                    Missing Values  \\\n",
       "Semences                                                     13514   \n",
       "Traitement                                                   13313   \n",
       "Aliments pour animaux                                        12885   \n",
       "Pertes                                                       11327   \n",
       "Autres Utilisations                                          10109   \n",
       "Variation de stock                                            8829   \n",
       "Production                                                    6425   \n",
       "Disponibilité de protéines en quantité (g/perso...            4044   \n",
       "Disponibilité de matière grasse en quantité (g/...            3811   \n",
       "Exportations - Quantité                                       3379   \n",
       "Disponibilité alimentaire en quantité (kg/perso...            1590   \n",
       "Nourriture                                                    1590   \n",
       "Disponibilité alimentaire (Kcal/personne/jour)                1364   \n",
       "Importations - Quantité                                        753   \n",
       "Disponibilité intérieure                                       223   \n",
       "\n",
       "                                                    % of Total Values  \\\n",
       "Semences                                                         86.6   \n",
       "Traitement                                                       85.3   \n",
       "Aliments pour animaux                                            82.6   \n",
       "Pertes                                                           72.6   \n",
       "Autres Utilisations                                              64.8   \n",
       "Variation de stock                                               56.6   \n",
       "Production                                                       41.2   \n",
       "Disponibilité de protéines en quantité (g/perso...               25.9   \n",
       "Disponibilité de matière grasse en quantité (g/...               24.4   \n",
       "Exportations - Quantité                                          21.7   \n",
       "Disponibilité alimentaire en quantité (kg/perso...               10.2   \n",
       "Nourriture                                                       10.2   \n",
       "Disponibilité alimentaire (Kcal/personne/jour)                    8.7   \n",
       "Importations - Quantité                                           4.8   \n",
       "Disponibilité intérieure                                          1.4   \n",
       "\n",
       "                                                    Total Zero Missing Values  \\\n",
       "Semences                                                                14218   \n",
       "Traitement                                                              14127   \n",
       "Aliments pour animaux                                                   13815   \n",
       "Pertes                                                                  12426   \n",
       "Autres Utilisations                                                     13407   \n",
       "Variation de stock                                                      14118   \n",
       "Production                                                               7859   \n",
       "Disponibilité de protéines en quantité (g/perso...                       6689   \n",
       "Disponibilité de matière grasse en quantité (g/...                       6545   \n",
       "Exportations - Quantité                                                  9875   \n",
       "Disponibilité alimentaire en quantité (kg/perso...                       3594   \n",
       "Nourriture                                                               5608   \n",
       "Disponibilité alimentaire (Kcal/personne/jour)                           5527   \n",
       "Importations - Quantité                                                  6530   \n",
       "Disponibilité intérieure                                                 4322   \n",
       "\n",
       "                                                    % Total Zero Missing Values  \\\n",
       "Semences                                                                   91.1   \n",
       "Traitement                                                                 90.5   \n",
       "Aliments pour animaux                                                      88.5   \n",
       "Pertes                                                                     79.6   \n",
       "Autres Utilisations                                                        85.9   \n",
       "Variation de stock                                                         90.5   \n",
       "Production                                                                 50.4   \n",
       "Disponibilité de protéines en quantité (g/perso...                         42.9   \n",
       "Disponibilité de matière grasse en quantité (g/...                         41.9   \n",
       "Exportations - Quantité                                                    63.3   \n",
       "Disponibilité alimentaire en quantité (kg/perso...                         23.0   \n",
       "Nourriture                                                                 35.9   \n",
       "Disponibilité alimentaire (Kcal/personne/jour)                             35.4   \n",
       "Importations - Quantité                                                    41.8   \n",
       "Disponibilité intérieure                                                   27.7   \n",
       "\n",
       "                                                   Data Type  \n",
       "Semences                                             float64  \n",
       "Traitement                                           float64  \n",
       "Aliments pour animaux                                float64  \n",
       "Pertes                                               float64  \n",
       "Autres Utilisations                                  float64  \n",
       "Variation de stock                                   float64  \n",
       "Production                                           float64  \n",
       "Disponibilité de protéines en quantité (g/perso...   float64  \n",
       "Disponibilité de matière grasse en quantité (g/...   float64  \n",
       "Exportations - Quantité                              float64  \n",
       "Disponibilité alimentaire en quantité (kg/perso...   float64  \n",
       "Nourriture                                           float64  \n",
       "Disponibilité alimentaire (Kcal/personne/jour)       float64  \n",
       "Importations - Quantité                              float64  \n",
       "Disponibilité intérieure                             float64  "
      ]
     },
     "execution_count": 16,
     "metadata": {},
     "output_type": "execute_result"
    }
   ],
   "source": [
    "missing_zero_values_table(dispo)"
   ]
  },
  {
   "cell_type": "markdown",
   "id": "984bf515",
   "metadata": {},
   "source": [
    "<div class=\"alert alert-info\">\n",
    "    <strong>Conclusion :<br></strong>\n",
    "   Beaucoup de valeurs manquantes et à zeros dans ce dataset , nous verrons plus tard ce que nous devons en faire\n",
    "</div>"
   ]
  },
  {
   "cell_type": "markdown",
   "id": "36c406be",
   "metadata": {},
   "source": [
    "## Analyse Population\n",
    "<a class=\"anchor\" id=\"section_3_5\"></a>"
   ]
  },
  {
   "cell_type": "code",
   "execution_count": 17,
   "id": "ec6be67b",
   "metadata": {},
   "outputs": [],
   "source": [
    "# pop"
   ]
  },
  {
   "cell_type": "code",
   "execution_count": 18,
   "id": "6fa5fce5",
   "metadata": {},
   "outputs": [],
   "source": [
    "# pop.info()"
   ]
  },
  {
   "cell_type": "code",
   "execution_count": 19,
   "id": "a0d36d46",
   "metadata": {},
   "outputs": [],
   "source": [
    "# pop[pop== 0].count()"
   ]
  },
  {
   "cell_type": "code",
   "execution_count": 20,
   "id": "ae524735",
   "metadata": {},
   "outputs": [],
   "source": [
    "# missing_zero_values_table(pop)"
   ]
  },
  {
   "cell_type": "code",
   "execution_count": 21,
   "id": "f7c0e5ae",
   "metadata": {},
   "outputs": [],
   "source": [
    "# pop.sort_values(by='Valeur', ascending=False).head(10)"
   ]
  },
  {
   "cell_type": "markdown",
   "id": "d779a4fa",
   "metadata": {},
   "source": [
    "<div class=\"alert alert-info\">\n",
    "    <strong>Conclusion :<br></strong>\n",
    " Rien a signaler sur ce dataset , aucune valeur manquante ou a zero\n",
    "</div>"
   ]
  },
  {
   "cell_type": "markdown",
   "id": "bc144dce",
   "metadata": {},
   "source": [
    "## Analyse Nutrition\n",
    "<a class=\"anchor\" id=\"section_3_6\"></a>"
   ]
  },
  {
   "cell_type": "code",
   "execution_count": 22,
   "id": "6a0741f5",
   "metadata": {},
   "outputs": [],
   "source": [
    "# inséc.head()"
   ]
  },
  {
   "cell_type": "code",
   "execution_count": 23,
   "id": "508cf21b",
   "metadata": {},
   "outputs": [],
   "source": [
    "# inséc.info()"
   ]
  },
  {
   "cell_type": "code",
   "execution_count": 24,
   "id": "619b08e1",
   "metadata": {},
   "outputs": [
    {
     "name": "stdout",
     "output_type": "stream",
     "text": [
      "Your selected dataframe has 3 columns and 1218 Rows.\n",
      "There are 1 columns that have missing values.\n"
     ]
    },
    {
     "data": {
      "text/html": [
       "<div>\n",
       "<style scoped>\n",
       "    .dataframe tbody tr th:only-of-type {\n",
       "        vertical-align: middle;\n",
       "    }\n",
       "\n",
       "    .dataframe tbody tr th {\n",
       "        vertical-align: top;\n",
       "    }\n",
       "\n",
       "    .dataframe thead th {\n",
       "        text-align: right;\n",
       "    }\n",
       "</style>\n",
       "<table border=\"1\" class=\"dataframe\">\n",
       "  <thead>\n",
       "    <tr style=\"text-align: right;\">\n",
       "      <th></th>\n",
       "      <th>Zero Values</th>\n",
       "      <th>Missing Values</th>\n",
       "      <th>% of Total Values</th>\n",
       "      <th>Total Zero Missing Values</th>\n",
       "      <th>% Total Zero Missing Values</th>\n",
       "      <th>Data Type</th>\n",
       "    </tr>\n",
       "  </thead>\n",
       "  <tbody>\n",
       "    <tr>\n",
       "      <th>Valeur</th>\n",
       "      <td>0</td>\n",
       "      <td>594</td>\n",
       "      <td>48.8</td>\n",
       "      <td>594</td>\n",
       "      <td>48.8</td>\n",
       "      <td>object</td>\n",
       "    </tr>\n",
       "  </tbody>\n",
       "</table>\n",
       "</div>"
      ],
      "text/plain": [
       "        Zero Values  Missing Values  % of Total Values  \\\n",
       "Valeur            0             594               48.8   \n",
       "\n",
       "        Total Zero Missing Values  % Total Zero Missing Values Data Type  \n",
       "Valeur                        594                         48.8    object  "
      ]
     },
     "execution_count": 24,
     "metadata": {},
     "output_type": "execute_result"
    }
   ],
   "source": [
    "missing_zero_values_table(inséc)"
   ]
  },
  {
   "cell_type": "code",
   "execution_count": 25,
   "id": "99120a0e",
   "metadata": {},
   "outputs": [],
   "source": [
    "#On remplace par la date intervalle \n",
    "insecurite = inséc.replace(['2012-2014', '2013-2015', '2014-2016', '2015-2017','2016-2018','2017-2019'],\n",
    "                        ['2013', '2014', '2015', '2016','2017','2018'])\n",
    "insecurite['Année'] = insecurite['Année'].astype('int64')"
   ]
  },
  {
   "cell_type": "code",
   "execution_count": 26,
   "id": "4f586a9d",
   "metadata": {},
   "outputs": [],
   "source": [
    "#supression des NaN\n",
    "insecurite = insecurite.dropna()"
   ]
  },
  {
   "cell_type": "code",
   "execution_count": 27,
   "id": "44ea3ec1",
   "metadata": {},
   "outputs": [
    {
     "data": {
      "text/plain": [
       "<0.1    19.23%\n",
       "0.3      7.69%\n",
       "0.4      5.13%\n",
       "0.2      4.49%\n",
       "1.5      3.21%\n",
       "0.6      2.88%\n",
       "0.8      2.72%\n",
       "1.6      2.72%\n",
       "0.9      2.24%\n",
       "1.3      2.08%\n",
       "Name: Valeur, dtype: object"
      ]
     },
     "execution_count": 27,
     "metadata": {},
     "output_type": "execute_result"
    }
   ],
   "source": [
    "sous_nutrition_pourcentage = insecurite[\"Valeur\"].value_counts(normalize=True).mul(100).round(2).astype(str) + '%'\n",
    "sous_nutrition_pourcentage.head(10)"
   ]
  },
  {
   "cell_type": "code",
   "execution_count": 28,
   "id": "ddd516b7",
   "metadata": {},
   "outputs": [],
   "source": [
    "#Les valeurs de population sont des strings, je fais un changement vers des floats\n",
    "#Les valeurs <0.1 seront considérées comme nulles dans nos calculs\n",
    "insecurite['Valeur'] = insecurite['Valeur'].replace('<0.1', 0)\n",
    "insecurite['Valeur'] = insecurite['Valeur'].astype('float64')"
   ]
  },
  {
   "cell_type": "markdown",
   "id": "10ab49a4",
   "metadata": {},
   "source": [
    "<div class=\"alert alert-info\">\n",
    "    <strong>Conclusion :<br></strong>\n",
    "- 48,8 % de données manquantes dans la feature Valeur du dataset nutrition<br>\n",
    "- Suppression des NaN<br>\n",
    "- Nous remplacons les dates avec l'années d'intervalles : ex l’intervalle 2012-2014 sera 2013 <br>\n",
    "- Les valeurs <0.1 sont remplacer par 0 et seront considérées comme nulles dans nos calculs\n",
    "    \n",
    "</div>"
   ]
  },
  {
   "cell_type": "markdown",
   "id": "70e66286",
   "metadata": {
    "heading_collapsed": true
   },
   "source": [
    "# Jointure\n",
    "<a class=\"anchor\" id=\"chapter4\"></a>"
   ]
  },
  {
   "cell_type": "code",
   "execution_count": 29,
   "id": "a5210448",
   "metadata": {
    "hidden": true
   },
   "outputs": [],
   "source": [
    "aide1 = aide.rename(columns={\"Pays bénéficiaire\": \"Zone\",\"Valeur\": \"prod_données_tonne\",\"Produit\":\"prod_données\"})\n",
    "pop1 = pop.rename(columns={\"Valeur\": \"population\"})\n",
    "inséc1 = insecurite.rename(columns={\"Valeur\": \"mean_und-alim_million\"})\n",
    "inséc1 = inséc1.replace(['2012-2014', '2013-2015', '2014-2016', '2015-2017','2016-2018','2017-2019'],\n",
    "                        ['2013', '2014', '2015', '2016','2017','2018'])\n",
    "inséc1['Année'] = inséc1['Année'].astype('int64')\n",
    "\n",
    "df = pd.merge(pd.merge(pd.merge(aide1,pop1,on=['Zone',\"Année\"],how='outer'),inséc1,on=['Zone',\"Année\"],how='outer'),dispo,on='Zone')"
   ]
  },
  {
   "cell_type": "code",
   "execution_count": 30,
   "id": "2d065b5e",
   "metadata": {
    "hidden": true
   },
   "outputs": [],
   "source": [
    "df.to_csv('df.csv')  "
   ]
  },
  {
   "cell_type": "markdown",
   "id": "98b8a6ea",
   "metadata": {},
   "source": [
    "# Etude année 2017\n",
    "<a class=\"anchor\" id=\"chapter5\"></a>"
   ]
  },
  {
   "cell_type": "code",
   "execution_count": 31,
   "id": "555eb795",
   "metadata": {},
   "outputs": [],
   "source": [
    "df_2017 = df[df['Année'] == 2017]"
   ]
  },
  {
   "cell_type": "code",
   "execution_count": 32,
   "id": "7d4b608d",
   "metadata": {},
   "outputs": [],
   "source": [
    "var_pop = df_2017[['Zone','population']]\n",
    "var_pop = var_pop.drop_duplicates()"
   ]
  },
  {
   "cell_type": "code",
   "execution_count": 33,
   "id": "dc77c5ef",
   "metadata": {},
   "outputs": [],
   "source": [
    "# df_2017.head()"
   ]
  },
  {
   "cell_type": "markdown",
   "id": "2f67d878",
   "metadata": {},
   "source": [
    "## Partie 1\n",
    "<a class=\"anchor\" id=\"section_5_1\"></a>"
   ]
  },
  {
   "cell_type": "markdown",
   "id": "c63c2261",
   "metadata": {},
   "source": [
    "### Question1  Quel est la proportion de personnes en état de sous-nutrition ?\n",
    "<a class=\"anchor\" id=\"section_5_1_1\"></a>"
   ]
  },
  {
   "cell_type": "code",
   "execution_count": 70,
   "id": "ed20e24c",
   "metadata": {},
   "outputs": [
    {
     "data": {
      "text/plain": [
       "Zone      AfghanistanAfrique du SudAlbanieAlgérieAngolaA...\n",
       "Année                                                209768\n",
       "Valeur                                                535.7\n",
       "dtype: object"
      ]
     },
     "execution_count": 70,
     "metadata": {},
     "output_type": "execute_result"
    }
   ],
   "source": [
    "insecurite_2017 =  insecurite.loc[insecurite['Année'] == 2017] \n",
    "insecurite_2017.sum()"
   ]
  },
  {
   "cell_type": "code",
   "execution_count": 35,
   "id": "cb748483",
   "metadata": {},
   "outputs": [
    {
     "data": {
      "text/plain": [
       "7548.134111"
      ]
     },
     "execution_count": 35,
     "metadata": {},
     "output_type": "execute_result"
    }
   ],
   "source": [
    "pop_2017 = pop.loc[pop['Année'] == 2017] \n",
    "pop_mondial_2017 =  pop_2017['Valeur'].sum()/ 1e3\n",
    "pop_mondial_2017\n"
   ]
  },
  {
   "cell_type": "code",
   "execution_count": 36,
   "id": "1b785dc2",
   "metadata": {},
   "outputs": [
    {
     "data": {
      "text/plain": [
       "7.1"
      ]
     },
     "execution_count": 36,
     "metadata": {},
     "output_type": "execute_result"
    }
   ],
   "source": [
    "proportion_sous_nutrition = round((insecurite_2017[\"Valeur\"].sum() / pop_mondial_2017) * 100, 2)\n",
    "proportion_sous_nutrition"
   ]
  },
  {
   "cell_type": "markdown",
   "id": "cd30777d",
   "metadata": {},
   "source": [
    "<div class=\"alert alert-info\">\n",
    "La proportion de personnes en état de sous-nutrition en 2017 est de 7.1 %\n",
    "</div>"
   ]
  },
  {
   "cell_type": "markdown",
   "id": "9a619eb6",
   "metadata": {},
   "source": [
    "### Quel est le  nombre théorique de personnes qui pourraient être nourries ?\n",
    "<a class=\"anchor\" id=\"section_5_1_2\"></a>"
   ]
  },
  {
   "cell_type": "code",
   "execution_count": 37,
   "id": "2a0212d5",
   "metadata": {},
   "outputs": [
    {
     "data": {
      "text/plain": [
       "7548.134111"
      ]
     },
     "execution_count": 37,
     "metadata": {},
     "output_type": "execute_result"
    }
   ],
   "source": [
    "pop_mondial_2017"
   ]
  },
  {
   "cell_type": "code",
   "execution_count": 38,
   "id": "50289ad2",
   "metadata": {},
   "outputs": [],
   "source": [
    "df_kcal = df_2017 [['Zone','Disponibilité alimentaire (Kcal/personne/jour)']]\n",
    "df_q2 = df_kcal.groupby(['Zone']).sum()"
   ]
  },
  {
   "cell_type": "code",
   "execution_count": 39,
   "id": "4e2331bf",
   "metadata": {},
   "outputs": [],
   "source": [
    "df_pop_2017= df_2017[['Zone','population']]\n",
    "df_pop_2017 = df_pop_2017.drop_duplicates()"
   ]
  },
  {
   "cell_type": "code",
   "execution_count": 40,
   "id": "76d3709d",
   "metadata": {},
   "outputs": [],
   "source": [
    "Q2= df_pop_2017.merge(df_q2, how='inner', on='Zone')"
   ]
  },
  {
   "cell_type": "code",
   "execution_count": 41,
   "id": "5b0a21f0",
   "metadata": {},
   "outputs": [],
   "source": [
    "Q2['dispo_total_kcal']= Q2['Disponibilité alimentaire (Kcal/personne/jour)']*(Q2['population']* 1e3) "
   ]
  },
  {
   "cell_type": "code",
   "execution_count": 42,
   "id": "d9dc3bee",
   "metadata": {},
   "outputs": [
    {
     "data": {
      "text/plain": [
       "2771411.3607024383"
      ]
     },
     "execution_count": 42,
     "metadata": {},
     "output_type": "execute_result"
    }
   ],
   "source": [
    "nbre_calorie_by_person = Q2['dispo_total_kcal'].sum() / (pop_mondial_2017* 1e3)\n",
    "nbre_calorie_by_person"
   ]
  },
  {
   "cell_type": "code",
   "execution_count": 43,
   "id": "988c4daa",
   "metadata": {},
   "outputs": [
    {
     "data": {
      "text/plain": [
       "20918984627331.0"
      ]
     },
     "execution_count": 43,
     "metadata": {},
     "output_type": "execute_result"
    }
   ],
   "source": [
    "Q2['dispo_total_kcal'].sum()"
   ]
  },
  {
   "cell_type": "code",
   "execution_count": 44,
   "id": "68742280",
   "metadata": {},
   "outputs": [
    {
     "data": {
      "text/plain": [
       "8367593850.9324"
      ]
     },
     "execution_count": 44,
     "metadata": {},
     "output_type": "execute_result"
    }
   ],
   "source": [
    "nbre_total_pers_theorique = Q2['dispo_total_kcal'].sum() / 2500\n",
    "nbre_total_pers_theorique"
   ]
  },
  {
   "cell_type": "code",
   "execution_count": 45,
   "id": "e3075782",
   "metadata": {},
   "outputs": [
    {
     "data": {
      "text/plain": [
       "110.85645442809752"
      ]
     },
     "execution_count": 45,
     "metadata": {},
     "output_type": "execute_result"
    }
   ],
   "source": [
    "pourcentage = nbre_total_pers_theorique/ (pop_mondial_2017* 1e6) * 100\n",
    "pourcentage"
   ]
  },
  {
   "cell_type": "markdown",
   "id": "ce1b0b67",
   "metadata": {},
   "source": [
    "<div class=\"alert alert-info\">\n",
    "Le nombre théorique de personnes qui pourraient être nourries est de 8 367 593 850 personnes soit 110% de la population en 2017\n",
    "</div>"
   ]
  },
  {
   "cell_type": "markdown",
   "id": "29f61773",
   "metadata": {},
   "source": [
    "### idem pour la disponibilité alimentaire des produits végétaux\n",
    "<a class=\"anchor\" id=\"section_5_1_3\"></a>"
   ]
  },
  {
   "cell_type": "code",
   "execution_count": 46,
   "id": "4ecb0c6d",
   "metadata": {},
   "outputs": [],
   "source": [
    "df_veg = df_2017[['Zone','Disponibilité alimentaire (Kcal/personne/jour)', 'Origine']]"
   ]
  },
  {
   "cell_type": "code",
   "execution_count": 47,
   "id": "329ac4b4",
   "metadata": {},
   "outputs": [],
   "source": [
    "df_veg = df_veg.loc[df_veg['Origine'] == 'vegetale'] "
   ]
  },
  {
   "cell_type": "code",
   "execution_count": 48,
   "id": "b95eb1bf",
   "metadata": {},
   "outputs": [],
   "source": [
    "df_vegetable = df_veg.groupby(['Zone']).sum()"
   ]
  },
  {
   "cell_type": "code",
   "execution_count": 49,
   "id": "84479a1e",
   "metadata": {},
   "outputs": [],
   "source": [
    "Q3= df_pop_2017.merge(df_vegetable, how='inner', on='Zone')"
   ]
  },
  {
   "cell_type": "code",
   "execution_count": 50,
   "id": "48f7cd44",
   "metadata": {},
   "outputs": [],
   "source": [
    "Q3['dispo_total_kcal']= Q3['Disponibilité alimentaire (Kcal/personne/jour)']*(Q3['population']* 1e3) "
   ]
  },
  {
   "cell_type": "code",
   "execution_count": 51,
   "id": "a75372f1",
   "metadata": {},
   "outputs": [
    {
     "data": {
      "text/plain": [
       "2286759.0794851733"
      ]
     },
     "execution_count": 51,
     "metadata": {},
     "output_type": "execute_result"
    }
   ],
   "source": [
    "nbre_calorie_by_person_veg = Q3['dispo_total_kcal'].sum() / (pop_mondial_2017* 1e3)\n",
    "nbre_calorie_by_person_veg"
   ]
  },
  {
   "cell_type": "code",
   "execution_count": 52,
   "id": "0c3472bf",
   "metadata": {},
   "outputs": [
    {
     "data": {
      "text/plain": [
       "6904305684.6004"
      ]
     },
     "execution_count": 52,
     "metadata": {},
     "output_type": "execute_result"
    }
   ],
   "source": [
    "nbre_total_pers_theorique_veg = Q3['dispo_total_kcal'].sum() / 2500\n",
    "nbre_total_pers_theorique_veg"
   ]
  },
  {
   "cell_type": "code",
   "execution_count": 53,
   "id": "0ceb080d",
   "metadata": {},
   "outputs": [
    {
     "data": {
      "text/plain": [
       "91.47036317940695"
      ]
     },
     "execution_count": 53,
     "metadata": {},
     "output_type": "execute_result"
    }
   ],
   "source": [
    "pourcentage_veg = nbre_total_pers_theorique_veg / (pop_mondial_2017* 1e6) * 100\n",
    "pourcentage_veg "
   ]
  },
  {
   "cell_type": "markdown",
   "id": "17e71905",
   "metadata": {},
   "source": [
    "<div class=\"alert alert-info\">\n",
    "Le nombre théorique de personnes qui pourraient être nourries est de 6 904 305 684 personnes soit 91% de population en 2017\n",
    "</div>"
   ]
  },
  {
   "cell_type": "markdown",
   "id": "26d92ce5",
   "metadata": {},
   "source": [
    "### proportion de personnes sous-alimentées\n",
    "<a class=\"anchor\" id=\"section_5_1_4\"></a>"
   ]
  },
  {
   "cell_type": "code",
   "execution_count": 54,
   "id": "32a6b68b",
   "metadata": {},
   "outputs": [],
   "source": [
    "sous_alim = df_2017[['Zone','population','mean_und-alim_million']]"
   ]
  },
  {
   "cell_type": "code",
   "execution_count": 55,
   "id": "c5a7cb81",
   "metadata": {},
   "outputs": [],
   "source": [
    "sous_alim = sous_alim.drop_duplicates()"
   ]
  },
  {
   "cell_type": "code",
   "execution_count": 56,
   "id": "a74b1713",
   "metadata": {},
   "outputs": [],
   "source": [
    "sous_alim = sous_alim.dropna()"
   ]
  },
  {
   "cell_type": "code",
   "execution_count": 57,
   "id": "68538885",
   "metadata": {},
   "outputs": [],
   "source": [
    "sous_alim = sous_alim[sous_alim['mean_und-alim_million'] != 0]"
   ]
  },
  {
   "cell_type": "code",
   "execution_count": 58,
   "id": "2fd9e02a",
   "metadata": {},
   "outputs": [],
   "source": [
    "#conversion de la population en million\n",
    "sous_alim['population'] = sous_alim['population']*1e-3"
   ]
  },
  {
   "cell_type": "code",
   "execution_count": 59,
   "id": "bc3c49b7",
   "metadata": {
    "scrolled": true
   },
   "outputs": [],
   "source": [
    "sous_alim['proportion_under'] = sous_alim['mean_und-alim_million']/sous_alim['population']*100"
   ]
  },
  {
   "cell_type": "code",
   "execution_count": 60,
   "id": "5ae19b94",
   "metadata": {},
   "outputs": [],
   "source": [
    "sous_alim = sous_alim.sort_values(by=['proportion_under'], ascending=False)"
   ]
  },
  {
   "cell_type": "code",
   "execution_count": 61,
   "id": "b4d4ee9c",
   "metadata": {
    "scrolled": true
   },
   "outputs": [
    {
     "data": {
      "text/html": [
       "<div>\n",
       "<style scoped>\n",
       "    .dataframe tbody tr th:only-of-type {\n",
       "        vertical-align: middle;\n",
       "    }\n",
       "\n",
       "    .dataframe tbody tr th {\n",
       "        vertical-align: top;\n",
       "    }\n",
       "\n",
       "    .dataframe thead th {\n",
       "        text-align: right;\n",
       "    }\n",
       "</style>\n",
       "<table border=\"1\" class=\"dataframe\">\n",
       "  <thead>\n",
       "    <tr style=\"text-align: right;\">\n",
       "      <th></th>\n",
       "      <th>Zone</th>\n",
       "      <th>population</th>\n",
       "      <th>mean_und-alim_million</th>\n",
       "      <th>proportion_under</th>\n",
       "    </tr>\n",
       "  </thead>\n",
       "  <tbody>\n",
       "    <tr>\n",
       "      <th>51891</th>\n",
       "      <td>Haïti</td>\n",
       "      <td>10.982366</td>\n",
       "      <td>5.3</td>\n",
       "      <td>48.259182</td>\n",
       "    </tr>\n",
       "    <tr>\n",
       "      <th>103362</th>\n",
       "      <td>République populaire démocratique de Corée</td>\n",
       "      <td>25.429825</td>\n",
       "      <td>12.0</td>\n",
       "      <td>47.188685</td>\n",
       "    </tr>\n",
       "    <tr>\n",
       "      <th>70946</th>\n",
       "      <td>Madagascar</td>\n",
       "      <td>25.570512</td>\n",
       "      <td>10.5</td>\n",
       "      <td>41.062924</td>\n",
       "    </tr>\n",
       "    <tr>\n",
       "      <th>68500</th>\n",
       "      <td>Libéria</td>\n",
       "      <td>4.702226</td>\n",
       "      <td>1.8</td>\n",
       "      <td>38.279742</td>\n",
       "    </tr>\n",
       "    <tr>\n",
       "      <th>65770</th>\n",
       "      <td>Lesotho</td>\n",
       "      <td>2.091534</td>\n",
       "      <td>0.8</td>\n",
       "      <td>38.249438</td>\n",
       "    </tr>\n",
       "    <tr>\n",
       "      <th>...</th>\n",
       "      <td>...</td>\n",
       "      <td>...</td>\n",
       "      <td>...</td>\n",
       "      <td>...</td>\n",
       "    </tr>\n",
       "    <tr>\n",
       "      <th>164446</th>\n",
       "      <td>Malaisie</td>\n",
       "      <td>31.104646</td>\n",
       "      <td>1.0</td>\n",
       "      <td>3.214954</td>\n",
       "    </tr>\n",
       "    <tr>\n",
       "      <th>147928</th>\n",
       "      <td>Émirats arabes unis</td>\n",
       "      <td>9.487203</td>\n",
       "      <td>0.3</td>\n",
       "      <td>3.162154</td>\n",
       "    </tr>\n",
       "    <tr>\n",
       "      <th>4827</th>\n",
       "      <td>Algérie</td>\n",
       "      <td>41.389189</td>\n",
       "      <td>1.3</td>\n",
       "      <td>3.140917</td>\n",
       "    </tr>\n",
       "    <tr>\n",
       "      <th>172108</th>\n",
       "      <td>Ouzbékistan</td>\n",
       "      <td>31.959785</td>\n",
       "      <td>0.9</td>\n",
       "      <td>2.816039</td>\n",
       "    </tr>\n",
       "    <tr>\n",
       "      <th>141338</th>\n",
       "      <td>Bulgarie</td>\n",
       "      <td>7.102444</td>\n",
       "      <td>0.2</td>\n",
       "      <td>2.815932</td>\n",
       "    </tr>\n",
       "  </tbody>\n",
       "</table>\n",
       "<p>84 rows × 4 columns</p>\n",
       "</div>"
      ],
      "text/plain": [
       "                                              Zone  population  \\\n",
       "51891                                        Haïti   10.982366   \n",
       "103362  République populaire démocratique de Corée   25.429825   \n",
       "70946                                   Madagascar   25.570512   \n",
       "68500                                      Libéria    4.702226   \n",
       "65770                                      Lesotho    2.091534   \n",
       "...                                            ...         ...   \n",
       "164446                                    Malaisie   31.104646   \n",
       "147928                         Émirats arabes unis    9.487203   \n",
       "4827                                       Algérie   41.389189   \n",
       "172108                                 Ouzbékistan   31.959785   \n",
       "141338                                    Bulgarie    7.102444   \n",
       "\n",
       "        mean_und-alim_million  proportion_under  \n",
       "51891                     5.3         48.259182  \n",
       "103362                   12.0         47.188685  \n",
       "70946                    10.5         41.062924  \n",
       "68500                     1.8         38.279742  \n",
       "65770                     0.8         38.249438  \n",
       "...                       ...               ...  \n",
       "164446                    1.0          3.214954  \n",
       "147928                    0.3          3.162154  \n",
       "4827                      1.3          3.140917  \n",
       "172108                    0.9          2.816039  \n",
       "141338                    0.2          2.815932  \n",
       "\n",
       "[84 rows x 4 columns]"
      ]
     },
     "execution_count": 61,
     "metadata": {},
     "output_type": "execute_result"
    }
   ],
   "source": [
    "sous_alim"
   ]
  },
  {
   "cell_type": "markdown",
   "id": "3efadd44",
   "metadata": {},
   "source": [
    "<div class=\"alert alert-info\">\n",
    "Les pays ayant presque la moitié de la population en sous-alimentation sont: Haïti, la Corée du nord et Madagascar\n",
    "</div>"
   ]
  }
 ],
 "metadata": {
  "kernelspec": {
   "display_name": "Python 3 (ipykernel)",
   "language": "python",
   "name": "python3"
  },
  "language_info": {
   "codemirror_mode": {
    "name": "ipython",
    "version": 3
   },
   "file_extension": ".py",
   "mimetype": "text/x-python",
   "name": "python",
   "nbconvert_exporter": "python",
   "pygments_lexer": "ipython3",
   "version": "3.8.12"
  },
  "toc": {
   "base_numbering": 1,
   "nav_menu": {},
   "number_sections": true,
   "sideBar": true,
   "skip_h1_title": false,
   "title_cell": "Table of Contents",
   "title_sidebar": "Contents",
   "toc_cell": false,
   "toc_position": {},
   "toc_section_display": true,
   "toc_window_display": false
  }
 },
 "nbformat": 4,
 "nbformat_minor": 5
}
