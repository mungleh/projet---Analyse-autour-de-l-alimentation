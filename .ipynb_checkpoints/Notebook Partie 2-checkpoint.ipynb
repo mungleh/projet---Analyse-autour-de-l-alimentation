{
 "cells": [
  {
   "cell_type": "markdown",
   "id": "7558548a",
   "metadata": {},
   "source": [
    "# Contexte"
   ]
  },
  {
   "cell_type": "markdown",
   "id": "1176f06d",
   "metadata": {},
   "source": [
    "Ce notebook est la deuxième partie d'un projet ou nous devons fournir des analyses concernant la répartition de l'alimentation, la sous-nutrition mais également en comprendre les causes."
   ]
  },
  {
   "cell_type": "markdown",
   "id": "f86b1d37",
   "metadata": {},
   "source": [
    "# Sommaire\n",
    "\n",
    "* [Préparation du dataset](#chapter3)\n",
    "    \n",
    "    \n",
    "* [Analyse](#chapter4)\n",
    "    * [Manioc](#section_4_1)\n",
    "    * [Aide alimentaire](#section_4_2)\n",
    "    * [Répartition Humain/Animale](#section_4_3)"
   ]
  },
  {
   "cell_type": "markdown",
   "id": "cf4afe5c",
   "metadata": {},
   "source": [
    "# Préparation du dataset\n",
    "<a class=\"anchor\" id=\"chapter3\"></a>"
   ]
  },
  {
   "cell_type": "code",
   "execution_count": 1,
   "id": "d6e886a5",
   "metadata": {},
   "outputs": [],
   "source": [
    "#import des librairies\n",
    "import pandas as pd\n",
    "import numpy as np\n",
    "import matplotlib.pyplot as plt\n",
    "import seaborn as sns\n",
    "import missingno as mno\n",
    "\n",
    "import plotly.express as px\n",
    "\n",
    "pd.set_option('display.max_columns', None)"
   ]
  },
  {
   "cell_type": "code",
   "execution_count": 2,
   "id": "f709d08c",
   "metadata": {},
   "outputs": [],
   "source": [
    "#import des données\n",
    "aide = pd.read_csv(\"data/aide_alimentaire.csv\", delimiter=\",\")\n",
    "dispo = pd.read_csv(\"data/dispo_alimentaire.csv\", delimiter=\",\")\n",
    "pop = pd.read_csv(\"data/population.csv\", delimiter=\",\")\n",
    "inséc = pd.read_csv(\"data/sous_nutrition.csv\", delimiter=\",\")"
   ]
  },
  {
   "cell_type": "code",
   "execution_count": 3,
   "id": "f5034543",
   "metadata": {},
   "outputs": [],
   "source": [
    "#changement des noms de colonnes dans les datasets\n",
    "aide1 = aide.rename(columns={\"Pays bénéficiaire\": \"Zone\",\"Valeur\": \"prod_données_tonne\",\"Produit\":\"prod_données\"})\n",
    "pop1 = pop.rename(columns={\"Valeur\": \"population\"})\n",
    "inséc1 = inséc.rename(columns={\"Valeur\": \"mean_und-alim_million\"})\n",
    "\n",
    "#remplacement des tranches d'années\n",
    "inséc1 = inséc1.replace(['2012-2014', '2013-2015', '2014-2016', '2015-2017','2016-2018','2017-2019'],\n",
    "                        ['2013', '2014', '2015', '2016','2017','2018'])\n",
    "\n",
    "#changement du type\n",
    "inséc1['Année'] = inséc1['Année'].astype('int64')"
   ]
  },
  {
   "cell_type": "code",
   "execution_count": 4,
   "id": "d8a05ab2",
   "metadata": {},
   "outputs": [],
   "source": [
    "#jointure de toute les datasets\n",
    "df = pd.merge(pd.merge(pd.merge(aide1,pop1,on=['Zone',\"Année\"],how='outer'),inséc1,on=['Zone',\"Année\"],how='outer'),dispo,on='Zone')"
   ]
  },
  {
   "cell_type": "code",
   "execution_count": 5,
   "id": "67c0dffc",
   "metadata": {},
   "outputs": [],
   "source": [
    "#imputationdes valeur <0.1 par 0\n",
    "df['mean_und-alim_million'] = df['mean_und-alim_million'].replace({\"<0.1\": 0})"
   ]
  },
  {
   "cell_type": "code",
   "execution_count": 6,
   "id": "1f200e2b",
   "metadata": {},
   "outputs": [],
   "source": [
    "#changement du type de la colonne\n",
    "df['mean_und-alim_million'] = df['mean_und-alim_million'].astype('float')"
   ]
  },
  {
   "cell_type": "code",
   "execution_count": 8,
   "id": "5f5d153e",
   "metadata": {},
   "outputs": [],
   "source": [
    "#filtrage pour l'année 2017\n",
    "df_2017 = df[df['Année'] == 2017]"
   ]
  },
  {
   "cell_type": "markdown",
   "id": "7cf6bc42",
   "metadata": {},
   "source": [
    "# Analyses\n",
    "<a class=\"anchor\" id=\"chapter4\"></a>"
   ]
  },
  {
   "cell_type": "markdown",
   "id": "f9157b0a",
   "metadata": {},
   "source": [
    "## Manioc\n",
    "<a class=\"anchor\" id=\"section_4_1\"></a>"
   ]
  },
  {
   "cell_type": "code",
   "execution_count": 9,
   "id": "9ac8331e",
   "metadata": {},
   "outputs": [],
   "source": [
    "#selection du manioc et de la thaïlande\n",
    "thai = df_2017[df_2017['Produit'] == 'Manioc']\n",
    "thai = thai[thai['Zone'] == 'Thaïlande']"
   ]
  },
  {
   "cell_type": "code",
   "execution_count": 10,
   "id": "c111dc2d",
   "metadata": {},
   "outputs": [],
   "source": [
    "#passage de la population de millier en million\n",
    "thai['population'] = thai['population']*1e-3"
   ]
  },
  {
   "cell_type": "code",
   "execution_count": 11,
   "id": "ed5a80c8",
   "metadata": {},
   "outputs": [
    {
     "data": {
      "text/html": [
       "<div>\n",
       "<style scoped>\n",
       "    .dataframe tbody tr th:only-of-type {\n",
       "        vertical-align: middle;\n",
       "    }\n",
       "\n",
       "    .dataframe tbody tr th {\n",
       "        vertical-align: top;\n",
       "    }\n",
       "\n",
       "    .dataframe thead th {\n",
       "        text-align: right;\n",
       "    }\n",
       "</style>\n",
       "<table border=\"1\" class=\"dataframe\">\n",
       "  <thead>\n",
       "    <tr style=\"text-align: right;\">\n",
       "      <th></th>\n",
       "      <th>Zone</th>\n",
       "      <th>Année</th>\n",
       "      <th>prod_données</th>\n",
       "      <th>prod_données_tonne</th>\n",
       "      <th>population</th>\n",
       "      <th>mean_und-alim_million</th>\n",
       "      <th>Produit</th>\n",
       "      <th>Origine</th>\n",
       "      <th>Aliments pour animaux</th>\n",
       "      <th>Autres Utilisations</th>\n",
       "      <th>Disponibilité alimentaire (Kcal/personne/jour)</th>\n",
       "      <th>Disponibilité alimentaire en quantité (kg/personne/an)</th>\n",
       "      <th>Disponibilité de matière grasse en quantité (g/personne/jour)</th>\n",
       "      <th>Disponibilité de protéines en quantité (g/personne/jour)</th>\n",
       "      <th>Disponibilité intérieure</th>\n",
       "      <th>Exportations - Quantité</th>\n",
       "      <th>Importations - Quantité</th>\n",
       "      <th>Nourriture</th>\n",
       "      <th>Pertes</th>\n",
       "      <th>Production</th>\n",
       "      <th>Semences</th>\n",
       "      <th>Traitement</th>\n",
       "      <th>Variation de stock</th>\n",
       "    </tr>\n",
       "  </thead>\n",
       "  <tbody>\n",
       "    <tr>\n",
       "      <th>183588</th>\n",
       "      <td>Thaïlande</td>\n",
       "      <td>2017</td>\n",
       "      <td>NaN</td>\n",
       "      <td>NaN</td>\n",
       "      <td>69.20981</td>\n",
       "      <td>6.2</td>\n",
       "      <td>Manioc</td>\n",
       "      <td>vegetale</td>\n",
       "      <td>1800.0</td>\n",
       "      <td>2081.0</td>\n",
       "      <td>40.0</td>\n",
       "      <td>13.0</td>\n",
       "      <td>0.05</td>\n",
       "      <td>0.14</td>\n",
       "      <td>6264.0</td>\n",
       "      <td>25214.0</td>\n",
       "      <td>1250.0</td>\n",
       "      <td>871.0</td>\n",
       "      <td>1511.0</td>\n",
       "      <td>30228.0</td>\n",
       "      <td>NaN</td>\n",
       "      <td>0.0</td>\n",
       "      <td>0.0</td>\n",
       "    </tr>\n",
       "  </tbody>\n",
       "</table>\n",
       "</div>"
      ],
      "text/plain": [
       "             Zone  Année prod_données  prod_données_tonne  population  \\\n",
       "183588  Thaïlande   2017          NaN                 NaN    69.20981   \n",
       "\n",
       "        mean_und-alim_million Produit   Origine  Aliments pour animaux  \\\n",
       "183588                    6.2  Manioc  vegetale                 1800.0   \n",
       "\n",
       "        Autres Utilisations  Disponibilité alimentaire (Kcal/personne/jour)  \\\n",
       "183588               2081.0                                            40.0   \n",
       "\n",
       "        Disponibilité alimentaire en quantité (kg/personne/an)  \\\n",
       "183588                                               13.0        \n",
       "\n",
       "        Disponibilité de matière grasse en quantité (g/personne/jour)  \\\n",
       "183588                                               0.05               \n",
       "\n",
       "        Disponibilité de protéines en quantité (g/personne/jour)  \\\n",
       "183588                                               0.14          \n",
       "\n",
       "        Disponibilité intérieure  Exportations - Quantité  \\\n",
       "183588                    6264.0                  25214.0   \n",
       "\n",
       "        Importations - Quantité  Nourriture  Pertes  Production  Semences  \\\n",
       "183588                   1250.0       871.0  1511.0     30228.0       NaN   \n",
       "\n",
       "        Traitement  Variation de stock  \n",
       "183588         0.0                 0.0  "
      ]
     },
     "execution_count": 11,
     "metadata": {},
     "output_type": "execute_result"
    }
   ],
   "source": [
    "thai"
   ]
  },
  {
   "cell_type": "code",
   "execution_count": 12,
   "id": "8e28498f",
   "metadata": {
    "scrolled": true
   },
   "outputs": [],
   "source": [
    "#calcul de la proportion de sous_nutrition\n",
    "thai['proportion_under'] = thai['mean_und-alim_million']/thai['population']*100"
   ]
  },
  {
   "cell_type": "code",
   "execution_count": 13,
   "id": "983fa4bb",
   "metadata": {},
   "outputs": [],
   "source": [
    "#calcul du taux d'export par la production\n",
    "thai['proportion_export'] = thai['Exportations - Quantité']/thai['Production']*100"
   ]
  },
  {
   "cell_type": "code",
   "execution_count": 14,
   "id": "0b4101d6",
   "metadata": {},
   "outputs": [],
   "source": [
    "#affichage plus beau\n",
    "thai = thai[['population','mean_und-alim_million','Produit','Exportations - Quantité','proportion_under','proportion_export']]"
   ]
  },
  {
   "cell_type": "code",
   "execution_count": 15,
   "id": "d83c0e5e",
   "metadata": {},
   "outputs": [
    {
     "data": {
      "text/html": [
       "<div>\n",
       "<style scoped>\n",
       "    .dataframe tbody tr th:only-of-type {\n",
       "        vertical-align: middle;\n",
       "    }\n",
       "\n",
       "    .dataframe tbody tr th {\n",
       "        vertical-align: top;\n",
       "    }\n",
       "\n",
       "    .dataframe thead th {\n",
       "        text-align: right;\n",
       "    }\n",
       "</style>\n",
       "<table border=\"1\" class=\"dataframe\">\n",
       "  <thead>\n",
       "    <tr style=\"text-align: right;\">\n",
       "      <th></th>\n",
       "      <th>population</th>\n",
       "      <th>mean_und-alim_million</th>\n",
       "      <th>Produit</th>\n",
       "      <th>Exportations - Quantité</th>\n",
       "      <th>proportion_under</th>\n",
       "      <th>proportion_export</th>\n",
       "    </tr>\n",
       "  </thead>\n",
       "  <tbody>\n",
       "    <tr>\n",
       "      <th>183588</th>\n",
       "      <td>69.20981</td>\n",
       "      <td>6.2</td>\n",
       "      <td>Manioc</td>\n",
       "      <td>25214.0</td>\n",
       "      <td>8.958268</td>\n",
       "      <td>83.41273</td>\n",
       "    </tr>\n",
       "  </tbody>\n",
       "</table>\n",
       "</div>"
      ],
      "text/plain": [
       "        population  mean_und-alim_million Produit  Exportations - Quantité  \\\n",
       "183588    69.20981                    6.2  Manioc                  25214.0   \n",
       "\n",
       "        proportion_under  proportion_export  \n",
       "183588          8.958268           83.41273  "
      ]
     },
     "execution_count": 15,
     "metadata": {},
     "output_type": "execute_result"
    }
   ],
   "source": [
    "thai"
   ]
  },
  {
   "cell_type": "markdown",
   "id": "a4c46ed3",
   "metadata": {},
   "source": [
    "## Aide alimentaire\n",
    "<a class=\"anchor\" id=\"section_4_2\"></a>"
   ]
  },
  {
   "cell_type": "code",
   "execution_count": 16,
   "id": "b6e15162",
   "metadata": {},
   "outputs": [],
   "source": [
    "#groupby par pays sur la df de base merged\n",
    "aide = df.groupby(['Zone']).sum()"
   ]
  },
  {
   "cell_type": "code",
   "execution_count": 17,
   "id": "7d77e632",
   "metadata": {},
   "outputs": [],
   "source": [
    "#selection des aides\n",
    "aide = aide[['prod_données_tonne']]"
   ]
  },
  {
   "cell_type": "code",
   "execution_count": 18,
   "id": "e450e5af",
   "metadata": {},
   "outputs": [
    {
     "data": {
      "text/html": [
       "<div>\n",
       "<style scoped>\n",
       "    .dataframe tbody tr th:only-of-type {\n",
       "        vertical-align: middle;\n",
       "    }\n",
       "\n",
       "    .dataframe tbody tr th {\n",
       "        vertical-align: top;\n",
       "    }\n",
       "\n",
       "    .dataframe thead th {\n",
       "        text-align: right;\n",
       "    }\n",
       "</style>\n",
       "<table border=\"1\" class=\"dataframe\">\n",
       "  <thead>\n",
       "    <tr style=\"text-align: right;\">\n",
       "      <th></th>\n",
       "      <th>prod_données_tonne</th>\n",
       "    </tr>\n",
       "    <tr>\n",
       "      <th>Zone</th>\n",
       "      <th></th>\n",
       "    </tr>\n",
       "  </thead>\n",
       "  <tbody>\n",
       "    <tr>\n",
       "      <th>Éthiopie</th>\n",
       "      <td>127079048.0</td>\n",
       "    </tr>\n",
       "    <tr>\n",
       "      <th>Yémen</th>\n",
       "      <td>112203012.0</td>\n",
       "    </tr>\n",
       "    <tr>\n",
       "      <th>Soudan</th>\n",
       "      <td>56261856.0</td>\n",
       "    </tr>\n",
       "    <tr>\n",
       "      <th>Kenya</th>\n",
       "      <td>53072256.0</td>\n",
       "    </tr>\n",
       "    <tr>\n",
       "      <th>Bangladesh</th>\n",
       "      <td>32729672.0</td>\n",
       "    </tr>\n",
       "    <tr>\n",
       "      <th>Niger</th>\n",
       "      <td>25147304.0</td>\n",
       "    </tr>\n",
       "    <tr>\n",
       "      <th>Pakistan</th>\n",
       "      <td>21720768.0</td>\n",
       "    </tr>\n",
       "    <tr>\n",
       "      <th>Tchad</th>\n",
       "      <td>19561518.0</td>\n",
       "    </tr>\n",
       "    <tr>\n",
       "      <th>République-Unie de Tanzanie</th>\n",
       "      <td>16514112.0</td>\n",
       "    </tr>\n",
       "    <tr>\n",
       "      <th>Philippines</th>\n",
       "      <td>16313590.0</td>\n",
       "    </tr>\n",
       "  </tbody>\n",
       "</table>\n",
       "</div>"
      ],
      "text/plain": [
       "                             prod_données_tonne\n",
       "Zone                                           \n",
       "Éthiopie                            127079048.0\n",
       "Yémen                               112203012.0\n",
       "Soudan                               56261856.0\n",
       "Kenya                                53072256.0\n",
       "Bangladesh                           32729672.0\n",
       "Niger                                25147304.0\n",
       "Pakistan                             21720768.0\n",
       "Tchad                                19561518.0\n",
       "République-Unie de Tanzanie          16514112.0\n",
       "Philippines                          16313590.0"
      ]
     },
     "execution_count": 18,
     "metadata": {},
     "output_type": "execute_result"
    }
   ],
   "source": [
    "#triage et affichage\n",
    "aide.sort_values(by=['prod_données_tonne'], ascending= False).head(10)"
   ]
  },
  {
   "cell_type": "markdown",
   "id": "5a2b0bcc",
   "metadata": {},
   "source": [
    "## Répartition Humain/Animale\n",
    "<a class=\"anchor\" id=\"section_4_3\"></a>"
   ]
  },
  {
   "cell_type": "code",
   "execution_count": 92,
   "id": "1f74fb52",
   "metadata": {},
   "outputs": [],
   "source": [
    "#filtrage par céréales\n",
    "repart = df_2017[df_2017['Produit'].isin(['Blé','Céréales, Autres','Soja','Seigle','Sorgho','Riz (Eq Blanchi)','Orge','Maïs','Millet'])]"
   ]
  },
  {
   "cell_type": "code",
   "execution_count": 93,
   "id": "f1501dd6",
   "metadata": {},
   "outputs": [],
   "source": [
    "#~selection des colonnes\n",
    "repart = repart[['Zone','Aliments pour animaux','Nourriture','Disponibilité intérieure']]"
   ]
  },
  {
   "cell_type": "code",
   "execution_count": 94,
   "id": "a05eeb1b",
   "metadata": {},
   "outputs": [],
   "source": [
    "#groupby par pays\n",
    "repartition = repart.groupby(['Zone']).sum()"
   ]
  },
  {
   "cell_type": "code",
   "execution_count": 95,
   "id": "b85fa23c",
   "metadata": {},
   "outputs": [],
   "source": [
    "#calcul des proportions humaines et animales par la disponibilité \n",
    "repartition['proportion_animale'] = repartition['Aliments pour animaux']/repartition['Disponibilité intérieure']*100\n",
    "repartition['proportion_humain'] = repartition['Nourriture']/repartition['Disponibilité intérieure']*100"
   ]
  },
  {
   "cell_type": "code",
   "execution_count": 96,
   "id": "ac500583",
   "metadata": {},
   "outputs": [
    {
     "data": {
      "text/html": [
       "<div>\n",
       "<style scoped>\n",
       "    .dataframe tbody tr th:only-of-type {\n",
       "        vertical-align: middle;\n",
       "    }\n",
       "\n",
       "    .dataframe tbody tr th {\n",
       "        vertical-align: top;\n",
       "    }\n",
       "\n",
       "    .dataframe thead th {\n",
       "        text-align: right;\n",
       "    }\n",
       "</style>\n",
       "<table border=\"1\" class=\"dataframe\">\n",
       "  <thead>\n",
       "    <tr style=\"text-align: right;\">\n",
       "      <th></th>\n",
       "      <th>Aliments pour animaux</th>\n",
       "      <th>Nourriture</th>\n",
       "      <th>Disponibilité intérieure</th>\n",
       "      <th>proportion_animale</th>\n",
       "      <th>proportion_humain</th>\n",
       "    </tr>\n",
       "    <tr>\n",
       "      <th>Zone</th>\n",
       "      <th></th>\n",
       "      <th></th>\n",
       "      <th></th>\n",
       "      <th></th>\n",
       "      <th></th>\n",
       "    </tr>\n",
       "  </thead>\n",
       "  <tbody>\n",
       "    <tr>\n",
       "      <th>Afghanistan</th>\n",
       "      <td>560.0</td>\n",
       "      <td>5494.0</td>\n",
       "      <td>7303.0</td>\n",
       "      <td>7.668082</td>\n",
       "      <td>75.229358</td>\n",
       "    </tr>\n",
       "    <tr>\n",
       "      <th>Afrique du Sud</th>\n",
       "      <td>4824.0</td>\n",
       "      <td>9530.0</td>\n",
       "      <td>16176.0</td>\n",
       "      <td>29.821958</td>\n",
       "      <td>58.914441</td>\n",
       "    </tr>\n",
       "    <tr>\n",
       "      <th>Albanie</th>\n",
       "      <td>386.0</td>\n",
       "      <td>474.0</td>\n",
       "      <td>1117.0</td>\n",
       "      <td>34.556849</td>\n",
       "      <td>42.435094</td>\n",
       "    </tr>\n",
       "    <tr>\n",
       "      <th>Algérie</th>\n",
       "      <td>4230.0</td>\n",
       "      <td>8535.0</td>\n",
       "      <td>14891.0</td>\n",
       "      <td>28.406420</td>\n",
       "      <td>57.316500</td>\n",
       "    </tr>\n",
       "    <tr>\n",
       "      <th>Allemagne</th>\n",
       "      <td>26043.0</td>\n",
       "      <td>9136.0</td>\n",
       "      <td>44786.0</td>\n",
       "      <td>58.149868</td>\n",
       "      <td>20.399232</td>\n",
       "    </tr>\n",
       "    <tr>\n",
       "      <th>...</th>\n",
       "      <td>...</td>\n",
       "      <td>...</td>\n",
       "      <td>...</td>\n",
       "      <td>...</td>\n",
       "      <td>...</td>\n",
       "    </tr>\n",
       "    <tr>\n",
       "      <th>Émirats arabes unis</th>\n",
       "      <td>1055.0</td>\n",
       "      <td>1485.0</td>\n",
       "      <td>3304.0</td>\n",
       "      <td>31.930993</td>\n",
       "      <td>44.945521</td>\n",
       "    </tr>\n",
       "    <tr>\n",
       "      <th>Équateur</th>\n",
       "      <td>847.0</td>\n",
       "      <td>1458.0</td>\n",
       "      <td>3447.0</td>\n",
       "      <td>24.572092</td>\n",
       "      <td>42.297650</td>\n",
       "    </tr>\n",
       "    <tr>\n",
       "      <th>États-Unis d'Amérique</th>\n",
       "      <td>140906.0</td>\n",
       "      <td>32557.0</td>\n",
       "      <td>392881.0</td>\n",
       "      <td>35.864804</td>\n",
       "      <td>8.286733</td>\n",
       "    </tr>\n",
       "    <tr>\n",
       "      <th>Éthiopie</th>\n",
       "      <td>667.0</td>\n",
       "      <td>14143.0</td>\n",
       "      <td>20263.0</td>\n",
       "      <td>3.291714</td>\n",
       "      <td>69.797167</td>\n",
       "    </tr>\n",
       "    <tr>\n",
       "      <th>Îles Salomon</th>\n",
       "      <td>0.0</td>\n",
       "      <td>50.0</td>\n",
       "      <td>64.0</td>\n",
       "      <td>0.000000</td>\n",
       "      <td>78.125000</td>\n",
       "    </tr>\n",
       "  </tbody>\n",
       "</table>\n",
       "<p>172 rows × 5 columns</p>\n",
       "</div>"
      ],
      "text/plain": [
       "                       Aliments pour animaux  Nourriture  \\\n",
       "Zone                                                       \n",
       "Afghanistan                            560.0      5494.0   \n",
       "Afrique du Sud                        4824.0      9530.0   \n",
       "Albanie                                386.0       474.0   \n",
       "Algérie                               4230.0      8535.0   \n",
       "Allemagne                            26043.0      9136.0   \n",
       "...                                      ...         ...   \n",
       "Émirats arabes unis                   1055.0      1485.0   \n",
       "Équateur                               847.0      1458.0   \n",
       "États-Unis d'Amérique               140906.0     32557.0   \n",
       "Éthiopie                               667.0     14143.0   \n",
       "Îles Salomon                             0.0        50.0   \n",
       "\n",
       "                       Disponibilité intérieure  proportion_animale  \\\n",
       "Zone                                                                  \n",
       "Afghanistan                              7303.0            7.668082   \n",
       "Afrique du Sud                          16176.0           29.821958   \n",
       "Albanie                                  1117.0           34.556849   \n",
       "Algérie                                 14891.0           28.406420   \n",
       "Allemagne                               44786.0           58.149868   \n",
       "...                                         ...                 ...   \n",
       "Émirats arabes unis                      3304.0           31.930993   \n",
       "Équateur                                 3447.0           24.572092   \n",
       "États-Unis d'Amérique                  392881.0           35.864804   \n",
       "Éthiopie                                20263.0            3.291714   \n",
       "Îles Salomon                               64.0            0.000000   \n",
       "\n",
       "                       proportion_humain  \n",
       "Zone                                      \n",
       "Afghanistan                    75.229358  \n",
       "Afrique du Sud                 58.914441  \n",
       "Albanie                        42.435094  \n",
       "Algérie                        57.316500  \n",
       "Allemagne                      20.399232  \n",
       "...                                  ...  \n",
       "Émirats arabes unis            44.945521  \n",
       "Équateur                       42.297650  \n",
       "États-Unis d'Amérique           8.286733  \n",
       "Éthiopie                       69.797167  \n",
       "Îles Salomon                   78.125000  \n",
       "\n",
       "[172 rows x 5 columns]"
      ]
     },
     "execution_count": 96,
     "metadata": {},
     "output_type": "execute_result"
    }
   ],
   "source": [
    "repartition"
   ]
  },
  {
   "cell_type": "code",
   "execution_count": 97,
   "id": "381b388f",
   "metadata": {},
   "outputs": [],
   "source": [
    "somme_animal = repartition['Aliments pour animaux'].sum() / repartition['Disponibilité intérieure'].sum() * 100\n",
    "somme_hunimal = repartition['Nourriture'].sum() / repartition['Disponibilité intérieure'].sum() * 100"
   ]
  },
  {
   "cell_type": "code",
   "execution_count": 98,
   "id": "7e0213f0",
   "metadata": {},
   "outputs": [
    {
     "name": "stdout",
     "output_type": "stream",
     "text": [
      "32.838224303341825\n",
      "39.18524930219789\n"
     ]
    }
   ],
   "source": [
    "print(somme_animal)\n",
    "print(somme_hunimal)"
   ]
  }
 ],
 "metadata": {
  "kernelspec": {
   "display_name": "Python 3 (ipykernel)",
   "language": "python",
   "name": "python3"
  },
  "language_info": {
   "codemirror_mode": {
    "name": "ipython",
    "version": 3
   },
   "file_extension": ".py",
   "mimetype": "text/x-python",
   "name": "python",
   "nbconvert_exporter": "python",
   "pygments_lexer": "ipython3",
   "version": "3.8.12"
  },
  "toc": {
   "base_numbering": 1,
   "nav_menu": {},
   "number_sections": true,
   "sideBar": true,
   "skip_h1_title": false,
   "title_cell": "Table of Contents",
   "title_sidebar": "Contents",
   "toc_cell": false,
   "toc_position": {},
   "toc_section_display": true,
   "toc_window_display": false
  }
 },
 "nbformat": 4,
 "nbformat_minor": 5
}
