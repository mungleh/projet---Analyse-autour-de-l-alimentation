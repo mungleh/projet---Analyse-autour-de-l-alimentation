{
 "cells": [
  {
   "cell_type": "markdown",
   "id": "97d4bed5",
   "metadata": {},
   "source": [
    "# Contexte"
   ]
  },
  {
   "cell_type": "markdown",
   "id": "09f84efc",
   "metadata": {},
   "source": [
    "Ce notebook est la troisième partie d'un projet ou nous devons fournir des analyses concernant la répartition de l'alimentation, la sous-nutrition mais également en comprendre les causes."
   ]
  },
  {
   "cell_type": "markdown",
   "id": "36680708",
   "metadata": {},
   "source": [
    "# Sommaire\n",
    "\n",
    "* [Analyse du dataset](#chapter3)\n",
    "    * [Détection des anomalies - néttoyage](#section_3_1)\n",
    "    \n",
    "    \n",
    "* [Visualisation](#chapter4)\n",
    "    * [Fonctions - visualisation](#section_4_1)\n",
    "    * [Visualisation](#section_4_2)"
   ]
  },
  {
   "cell_type": "markdown",
   "id": "f41168fb",
   "metadata": {},
   "source": [
    "# Analyse du dataset\n",
    "<a class=\"anchor\" id=\"chapter3\"></a>"
   ]
  },
  {
   "cell_type": "code",
   "execution_count": null,
   "id": "2243bc90",
   "metadata": {},
   "outputs": [],
   "source": [
    "import pandas as pd\n",
    "import numpy as np\n",
    "import matplotlib.pyplot as plt\n",
    "import seaborn as sns\n",
    "import missingno as mno\n",
    "\n",
    "import plotly.express as px\n",
    "\n",
    "pd.set_option('display.max_columns', None)"
   ]
  },
  {
   "cell_type": "code",
   "execution_count": null,
   "id": "49831132",
   "metadata": {},
   "outputs": [],
   "source": [
    "aide = pd.read_csv(\"data/aide_alimentaire.csv\", delimiter=\",\")\n",
    "dispo = pd.read_csv(\"data/dispo_alimentaire.csv\", delimiter=\",\")\n",
    "pop = pd.read_csv(\"data/population.csv\", delimiter=\",\")\n",
    "inséc = pd.read_csv(\"data/sous_nutrition.csv\", delimiter=\",\")"
   ]
  }
 ],
 "metadata": {
  "kernelspec": {
   "display_name": "Python 3 (ipykernel)",
   "language": "python",
   "name": "python3"
  },
  "language_info": {
   "codemirror_mode": {
    "name": "ipython",
    "version": 3
   },
   "file_extension": ".py",
   "mimetype": "text/x-python",
   "name": "python",
   "nbconvert_exporter": "python",
   "pygments_lexer": "ipython3",
   "version": "3.8.12"
  },
  "toc": {
   "base_numbering": 1,
   "nav_menu": {},
   "number_sections": true,
   "sideBar": true,
   "skip_h1_title": false,
   "title_cell": "Table of Contents",
   "title_sidebar": "Contents",
   "toc_cell": false,
   "toc_position": {},
   "toc_section_display": true,
   "toc_window_display": false
  }
 },
 "nbformat": 4,
 "nbformat_minor": 5
}
